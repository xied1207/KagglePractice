{
  "cells": [
    {
      "source": [
        "# This Python 3 environment comes with many helpful analytics libraries installed\n",
        "# It is defined by the kaggle/python docker image: https://github.com/kaggle/docker-python\n",
        "# For example, here's several helpful packages to load in \n",
        "\n",
        "import numpy as np # linear algebra\n",
        "import pandas as pd # data processing, CSV file I/O (e.g. pd.read_csv)\n",
        "import random as rnd\n",
        "\n",
        "# visualization\n",
        "import seaborn as sns\n",
        "import matplotlib.pyplot as plt\n",
        "%matplotlib inline\n",
        "\n",
        "# machine learning\n",
        "from sklearn.linear_model import LogisticRegression\n",
        "from sklearn.svm import SVC, LinearSVC\n",
        "from sklearn.ensemble import RandomForestClassifier\n",
        "from sklearn.neighbors import KNeighborsClassifier\n",
        "from sklearn.naive_bayes import GaussianNB\n",
        "from sklearn.linear_model import Perceptron\n",
        "from sklearn.linear_model import SGDClassifier\n",
        "from sklearn.tree import DecisionTreeClassifier\n",
        "# Input data files are available in the \"../input/\" directory.\n",
        "# For example, running this (by clicking run or pressing Shift+Enter) will list the files in the input directory\n",
        "\n",
        "from subprocess import check_output\n",
        "print(check_output([\"ls\", \"../input\"]).decode(\"utf8\"))\n",
        "\n",
        "# Any results you write to the current directory are saved as output."
      ],
      "cell_type": "code",
      "metadata": {
        "_uuid": "c4cf9ea6fcd37273984dccab52665d68fd6f9dfd",
        "_cell_guid": "507f6d9e-e4c1-4804-942c-9825a536cbdf"
      },
      "outputs": [],
      "execution_count": null
    },
    {
      "source": [
        "train_df = pd.read_csv('../input/train.csv')\n",
        "test_df = pd.read_csv('../input/test.csv')\n",
        "combine = [train_df, test_df]"
      ],
      "cell_type": "code",
      "metadata": {
        "collapsed": true,
        "_uuid": "9e689b572f39c04a90bbb247c415336049cc3283",
        "_cell_guid": "faa986e3-d8ca-4d9d-a1a1-d5a10003261c"
      },
      "outputs": [],
      "execution_count": null
    },
    {
      "source": [
        "print(train_df.columns.values)"
      ],
      "cell_type": "code",
      "metadata": {
        "_uuid": "9224261c8fa79f2a69a82e9df1d5000a9a64d3ad",
        "_cell_guid": "54a70f37-bc68-4a8b-ad40-02e9206f9cab"
      },
      "outputs": [],
      "execution_count": null
    },
    {
      "source": [
        "# preview the data\n",
        "train_df.head()"
      ],
      "cell_type": "code",
      "metadata": {
        "_uuid": "9c99a98ed708ab393e7a43a51073accbebe0946f",
        "_cell_guid": "c3a85319-0b12-4cf1-99bb-8f907abbf72a"
      },
      "outputs": [],
      "execution_count": null
    },
    {
      "source": [
        "train_df.tail()"
      ],
      "cell_type": "code",
      "metadata": {
        "_uuid": "44cdea4d3f6f1b5652c7c36a5e81f6ece8799b3a",
        "_cell_guid": "2869a9d3-136c-4a60-a9e4-36212aa7139f"
      },
      "outputs": [],
      "execution_count": null
    },
    {
      "source": [
        "train_df.info()\n",
        "print('_'*40)\n",
        "test_df.info()"
      ],
      "cell_type": "code",
      "metadata": {
        "_uuid": "9421cd931961b74608b1c4634ed9cee2abb4cfb9",
        "_cell_guid": "923c5a73-1a42-4cce-b6e6-9ba2be6938e2"
      },
      "outputs": [],
      "execution_count": null
    },
    {
      "source": [
        "train_df.describe()\n",
        "# Review survived rate using `percentiles=[.61, .62]` knowing our problem description mentions 38% survival rate.\n",
        "# Review Parch distribution using `percentiles=[.75, .8]`\n",
        "# SibSp distribution `[.68, .69]`\n",
        "# Age and Fare `[.1, .2, .3, .4, .5, .6, .7, .8, .9, .99]`"
      ],
      "cell_type": "code",
      "metadata": {
        "_uuid": "a0f35fca4ed9fd9faea03ee301e7fc603ec60b9e",
        "_cell_guid": "75325227-50e0-4f66-a986-b4ceb5fbdac5"
      },
      "outputs": [],
      "execution_count": null
    },
    {
      "source": [
        "train_df.describe(include=['O'])"
      ],
      "cell_type": "code",
      "metadata": {
        "_uuid": "06d55ece0c0e9dfe0f20fe9ccf58d9f82d5265c4",
        "_cell_guid": "71e54833-4f56-4f69-b014-3102a01c7da0"
      },
      "outputs": [],
      "execution_count": null
    },
    {
      "source": [
        "train_df[['Pclass', 'Survived']].groupby(['Pclass'], as_index=False).mean().sort_values(by='Survived', ascending=False)"
      ],
      "cell_type": "code",
      "metadata": {
        "_uuid": "87afda6d572a53dcfbd890e07fd238ae1402ec7e",
        "_cell_guid": "a20c8729-eb10-4f9b-93b4-5cad3bef10a9"
      },
      "outputs": [],
      "execution_count": null
    },
    {
      "source": [
        "train_df[['Sex', 'Survived']].groupby(['Sex'], as_index=False).mean().sort_values(by='Survived', ascending=False)"
      ],
      "cell_type": "code",
      "metadata": {
        "_uuid": "bd9c5851762a105e841540a95c9378302dc7de6b",
        "_cell_guid": "80d80a44-1925-431b-9347-46a2ae139baa"
      },
      "outputs": [],
      "execution_count": null
    },
    {
      "source": [
        "train_df[['SibSp', 'Survived']].groupby(['SibSp'], as_index=False).mean().sort_values(by='Survived', ascending=False)"
      ],
      "cell_type": "code",
      "metadata": {
        "_uuid": "53e7a309926ea99e35076ba024cd76f9d13f5fa1",
        "_cell_guid": "cbb07fe0-c1c2-4a45-81a8-8c5dd2650866"
      },
      "outputs": [],
      "execution_count": null
    },
    {
      "source": [
        "train_df[['Parch', 'Survived']].groupby(['Parch'], as_index=False).mean().sort_values(by='Survived', ascending=False)"
      ],
      "cell_type": "code",
      "metadata": {
        "_uuid": "b7317cba2e10ca6a0b004a1e1755985bf388a392",
        "_cell_guid": "bdfff9b5-c9aa-4659-9e24-27a3889a3ada"
      },
      "outputs": [],
      "execution_count": null
    },
    {
      "source": [
        "g=sns.FacetGrid(train_df,col='Survived')\n",
        "g.map(plt.hist,'Age',bins=20)"
      ],
      "cell_type": "code",
      "metadata": {
        "_uuid": "01389972b0781e27e5ed3deab31fbdc69261cc23",
        "_cell_guid": "756f682d-8157-4412-af55-39566704695a"
      },
      "outputs": [],
      "execution_count": null
    },
    {
      "source": [
        "# grid = sns.FacetGrid(train_df, col='Pclass', hue='Survived')\n",
        "grid = sns.FacetGrid(train_df, col='Survived', row='Pclass', size=2.2, aspect=1.6)\n",
        "grid.map(plt.hist, 'Age', alpha=.5, bins=20)\n",
        "grid.add_legend();"
      ],
      "cell_type": "code",
      "metadata": {
        "_uuid": "31f1c9a5b564239a9f7d16f739a05d873190542f",
        "_cell_guid": "662cdeb8-d669-41a3-a635-2bcb86fb2289"
      },
      "outputs": [],
      "execution_count": null
    },
    {
      "source": [
        "# grid = sns.FacetGrid(train_df, col='Embarked')\n",
        "grid = sns.FacetGrid(train_df, row='Embarked', size=2.2, aspect=1.6)\n",
        "grid.map(sns.pointplot, 'Pclass', 'Survived', 'Sex', palette='deep')\n",
        "grid.add_legend()"
      ],
      "cell_type": "code",
      "metadata": {
        "_uuid": "68c278d0f3f437899a6ce29312548b744193a393",
        "_cell_guid": "fbff4902-396b-4a99-8a9c-0f14a1d7f312"
      },
      "outputs": [],
      "execution_count": null
    },
    {
      "source": [
        "# grid = sns.FacetGrid(train_df, col='Embarked', hue='Survived', palette={0: 'k', 1: 'w'})\n",
        "grid = sns.FacetGrid(train_df, row='Embarked', col='Survived', size=2.2, aspect=1.6)\n",
        "grid.map(sns.barplot, 'Sex', 'Fare', alpha=.5, ci=None)\n",
        "grid.add_legend()"
      ],
      "cell_type": "code",
      "metadata": {
        "_uuid": "7f44b2708fb140e6a35503554bcb063afa6bab81",
        "_cell_guid": "ccbe11e9-55bb-4be6-b1b3-69e9bd7bd552"
      },
      "outputs": [],
      "execution_count": null
    },
    {
      "source": [
        "print(\"Before\", train_df.shape, test_df.shape, combine[0].shape, combine[1].shape)\n",
        "\n",
        "train_df = train_df.drop(['Ticket', 'Cabin'], axis=1)\n",
        "test_df = test_df.drop(['Ticket', 'Cabin'], axis=1)\n",
        "combine = [train_df, test_df]\n",
        "\n",
        "\"After\", train_df.shape, test_df.shape, combine[0].shape, combine[1].shape"
      ],
      "cell_type": "code",
      "metadata": {
        "scrolled": true,
        "_uuid": "163521f7b626d8d3464a96c23a07f8638adc28d3",
        "_cell_guid": "efec9564-6591-4d6f-a629-00189ca0fbbe"
      },
      "outputs": [],
      "execution_count": null
    },
    {
      "source": [
        "for dataset in combine:\n",
        "    dataset['Title'] = dataset.Name.str.extract(' ([A-Za-z]+)\\.', expand=False)\n",
        "\n",
        "pd.crosstab(train_df['Title'], train_df['Sex'])"
      ],
      "cell_type": "code",
      "metadata": {
        "_uuid": "ede008d0c1112dd514138853c46c5f19ffe2a56e",
        "_cell_guid": "2aa324ac-5a4f-4aa3-84db-5e0b2fc34ab4"
      },
      "outputs": [],
      "execution_count": null
    },
    {
      "source": [
        "for dataset in combine:\n",
        "    dataset['Title'] = dataset['Title'].replace(['Lady', 'Countess','Capt', 'Col',\\\n",
        " \t'Don', 'Dr', 'Major', 'Rev', 'Sir', 'Jonkheer', 'Dona'], 'Rare')\n",
        "\n",
        "    dataset['Title'] = dataset['Title'].replace('Mlle', 'Miss')\n",
        "    dataset['Title'] = dataset['Title'].replace('Ms', 'Miss')\n",
        "    dataset['Title'] = dataset['Title'].replace('Mme', 'Mrs')\n",
        "    \n",
        "train_df[['Title', 'Survived']].groupby(['Title'], as_index=False).mean()"
      ],
      "cell_type": "code",
      "metadata": {
        "_uuid": "e195a941e5e5f2b4703ec8d67c04b41e990a26c1",
        "_cell_guid": "2048652d-d634-4d29-b945-93e126324417"
      },
      "outputs": [],
      "execution_count": null
    },
    {
      "source": [
        "title_mapping = {\"Mr\": 1, \"Miss\": 2, \"Mrs\": 3, \"Master\": 4, \"Rare\": 5}\n",
        "for dataset in combine:\n",
        "    dataset['Title'] = dataset['Title'].map(title_mapping)\n",
        "    dataset['Title'] = dataset['Title'].fillna(0)\n",
        "\n",
        "train_df.head()"
      ],
      "cell_type": "code",
      "metadata": {
        "_uuid": "f46c71ae46e452edc75aeb431d6422f5e9437b3d",
        "_cell_guid": "4ab52524-f611-471c-bbbe-44f1d39312c9"
      },
      "outputs": [],
      "execution_count": null
    },
    {
      "source": [
        "train_df = train_df.drop(['Name', 'PassengerId'], axis=1)\n",
        "test_df = test_df.drop(['Name'], axis=1)\n",
        "combine = [train_df, test_df]\n",
        "train_df.shape, test_df.shape\n"
      ],
      "cell_type": "code",
      "metadata": {
        "_uuid": "abe559e5ec236a7068d5b3878b9416c2cba85ecb",
        "_cell_guid": "2f3c0a58-c8bf-4830-bc5c-7054dea8761d"
      },
      "outputs": [],
      "execution_count": null
    },
    {
      "source": [
        "for dataset in combine:\n",
        "    dataset['Sex'] = dataset['Sex'].map( {'female': 1, 'male': 0} ).astype(int)\n",
        "\n",
        "train_df.head()"
      ],
      "cell_type": "code",
      "metadata": {
        "_uuid": "b4e2fafc78edc4f0227a3cd27eddc83ae39c7575",
        "_cell_guid": "935994d4-ce97-4bdb-8ca7-d508aba9204c"
      },
      "outputs": [],
      "execution_count": null
    },
    {
      "source": [
        "# grid = sns.FacetGrid(train_df, col='Pclass', hue='Gender')\n",
        "grid = sns.FacetGrid(train_df, row='Pclass', col='Sex', size=2.2, aspect=1.6)\n",
        "grid.map(plt.hist, 'Age', alpha=.5, bins=20)\n",
        "grid.add_legend()"
      ],
      "cell_type": "code",
      "metadata": {
        "_uuid": "b9a2eb205a5c4f21e54ef0f50593c80e0dc826ea",
        "_cell_guid": "e699e484-bcc7-4016-a247-bc799de380ab"
      },
      "outputs": [],
      "execution_count": null
    },
    {
      "source": [
        "guess_ages = np.zeros((2,3))\n",
        "guess_ages"
      ],
      "cell_type": "code",
      "metadata": {
        "_uuid": "6d11266c1573bd1f00631ccf6e934c4e10cde55d",
        "_cell_guid": "46240ef5-a008-4c5e-9fd1-4aa5a4f3e60f"
      },
      "outputs": [],
      "execution_count": null
    },
    {
      "source": [
        "for dataset in combine:\n",
        "    for i in range(0, 2):\n",
        "        for j in range(0, 3):\n",
        "            guess_df = dataset[(dataset['Sex'] == i) & (dataset['Pclass'] == j+1)]['Age'].dropna()\n",
        "\n",
        "            # age_mean = guess_df.mean()\n",
        "            # age_std = guess_df.std()\n",
        "            # age_guess = rnd.uniform(age_mean - age_std, age_mean + age_std)\n",
        "\n",
        "            age_guess = guess_df.median()\n",
        "            # Convert random age float to nearest .5 age\n",
        "            guess_ages[i,j] = int(age_guess/0.5 + 0.5 ) * 0.5\n",
        "            \n",
        "    for i in range(0, 2):\n",
        "        for j in range(0, 3):\n",
        "            dataset.loc[ (dataset.Age.isnull()) & (dataset.Sex == i) & (dataset.Pclass == j+1),\\\n",
        "                    'Age'] = guess_ages[i,j]\n",
        "\n",
        "    dataset['Age'] = dataset['Age'].astype(int)\n",
        "\n",
        "train_df.head()\n"
      ],
      "cell_type": "code",
      "metadata": {
        "_uuid": "097a1390fae4fd31d63878dd4b1e2071c80f98fe",
        "_cell_guid": "b44e4b38-8e50-4fe9-aa11-1a9e14d4e7f6"
      },
      "outputs": [],
      "execution_count": null
    },
    {
      "source": [
        "train_df['AgeBand'] = pd.cut(train_df['Age'], 5)\n",
        "train_df[['AgeBand', 'Survived']].groupby(['AgeBand'], as_index=False).mean().sort_values(by='AgeBand', ascending=True)"
      ],
      "cell_type": "code",
      "metadata": {
        "_uuid": "e500db9d4345f4910a48d57f5508d1e1e78b4f03",
        "_cell_guid": "2a1aa3da-9b08-4afc-82d0-e62ec4b4581a"
      },
      "outputs": [],
      "execution_count": null
    },
    {
      "source": [
        "for dataset in combine:    \n",
        "    dataset.loc[ dataset['Age'] <= 16, 'Age'] = 0\n",
        "    dataset.loc[(dataset['Age'] > 16) & (dataset['Age'] <= 32), 'Age'] = 1\n",
        "    dataset.loc[(dataset['Age'] > 32) & (dataset['Age'] <= 48), 'Age'] = 2\n",
        "    dataset.loc[(dataset['Age'] > 48) & (dataset['Age'] <= 64), 'Age'] = 3\n",
        "    dataset.loc[dataset['Age'] > 64, 'Age']\n",
        "train_df.head()"
      ],
      "cell_type": "code",
      "metadata": {
        "_uuid": "6a98de8033c41767387fc56e42e0ec8a7a0025ac",
        "_cell_guid": "494e5fad-ab70-40b0-b210-3572b6cc4981"
      },
      "outputs": [],
      "execution_count": null
    },
    {
      "source": [
        "train_df = train_df.drop(['AgeBand'], axis=1)\n",
        "combine = [train_df, test_df]\n",
        "train_df.head()"
      ],
      "cell_type": "code",
      "metadata": {
        "_uuid": "1d75647f12aa9e61bc1f34d2676c8abf1235367b",
        "_cell_guid": "11a14ce7-69f2-4025-ad08-b252b5801415"
      },
      "outputs": [],
      "execution_count": null
    },
    {
      "source": [
        "for dataset in combine:\n",
        "    dataset['FamilySize'] = dataset['SibSp'] + dataset['Parch'] + 1\n",
        "\n",
        "train_df[['FamilySize', 'Survived']].groupby(['FamilySize'], as_index=False).mean().sort_values(by='Survived', ascending=False)"
      ],
      "cell_type": "code",
      "metadata": {
        "_uuid": "31548ed7b07540089c86761d8fa2cc1ccc029c58",
        "_cell_guid": "f363503c-1bd1-4cfe-bd6e-a5c2c59fd50e"
      },
      "outputs": [],
      "execution_count": null
    },
    {
      "source": [
        "for dataset in combine:\n",
        "    dataset['IsAlone'] = 0\n",
        "    dataset.loc[dataset['FamilySize'] == 1, 'IsAlone'] = 1\n",
        "\n",
        "train_df[['IsAlone', 'Survived']].groupby(['IsAlone'], as_index=False).mean()"
      ],
      "cell_type": "code",
      "metadata": {
        "_uuid": "c0f792c1484ab9ac603bd920b3c703f482e5df11",
        "_cell_guid": "e2ea1366-a2dc-419f-accf-187ff2590e4e"
      },
      "outputs": [],
      "execution_count": null
    },
    {
      "source": [
        "train_df = train_df.drop(['Parch', 'SibSp', 'FamilySize'], axis=1)\n",
        "test_df = test_df.drop(['Parch', 'SibSp', 'FamilySize'], axis=1)\n",
        "combine = [train_df, test_df]\n",
        "\n",
        "train_df.head()"
      ],
      "cell_type": "code",
      "metadata": {
        "_uuid": "48186fc503a845c0ec538ff82440b767be5afa09",
        "_cell_guid": "ffe01b5f-e9ed-46c4-8945-19c059f4587a"
      },
      "outputs": [],
      "execution_count": null
    },
    {
      "source": [
        "for dataset in combine:\n",
        "    dataset['Age*Class'] = dataset.Age * dataset.Pclass\n",
        "\n",
        "train_df.loc[:, ['Age*Class', 'Age', 'Pclass']].head(10)"
      ],
      "cell_type": "code",
      "metadata": {
        "_uuid": "ad4b52a67441606d5e83d42baa54618d54c8aff8",
        "_cell_guid": "a07fe809-d115-46e2-830a-c5b38d878c8e"
      },
      "outputs": [],
      "execution_count": null
    },
    {
      "source": [
        "freq_port = train_df.Embarked.dropna().mode()[0]\n",
        "freq_port"
      ],
      "cell_type": "code",
      "metadata": {
        "_uuid": "bad83da09ba410c92bbffa6bf476ca2d62435f5c",
        "_cell_guid": "f6a9808e-193b-4169-84a0-e17495b8c147"
      },
      "outputs": [],
      "execution_count": null
    },
    {
      "source": [
        "for dataset in combine:\n",
        "    dataset['Embarked'] = dataset['Embarked'].fillna(freq_port)\n",
        "    \n",
        "train_df[['Embarked', 'Survived']].groupby(['Embarked'], as_index=False).mean().sort_values(by='Survived', ascending=False)"
      ],
      "cell_type": "code",
      "metadata": {
        "_uuid": "be30c08bfeae4d9b05775af6e5db620d78e73d33",
        "_cell_guid": "b3da6c63-7263-4194-987b-6d352e6fa983"
      },
      "outputs": [],
      "execution_count": null
    },
    {
      "source": [
        "for dataset in combine:\n",
        "    dataset['Embarked'] = dataset['Embarked'].map( {'S': 0, 'C': 1, 'Q': 2} ).astype(int)\n",
        "\n",
        "train_df.head()"
      ],
      "cell_type": "code",
      "metadata": {
        "_uuid": "050ff9c237bac8d29fb3443c8d23c5bed0a412c5",
        "_cell_guid": "803cc349-635a-4825-9395-b547515fc4ef"
      },
      "outputs": [],
      "execution_count": null
    },
    {
      "source": [
        "test_df['Fare'].fillna(test_df['Fare'].dropna().median(), inplace=True)\n",
        "test_df.head()"
      ],
      "cell_type": "code",
      "metadata": {
        "_uuid": "36abd5da52d21d08f37f2ec93eba48e8e7608a28",
        "_cell_guid": "d78539bd-439d-4be4-902c-db91cb84024f"
      },
      "outputs": [],
      "execution_count": null
    },
    {
      "source": [
        "train_df['FareBand'] = pd.qcut(train_df['Fare'], 4)\n",
        "train_df[['FareBand', 'Survived']].groupby(['FareBand'], as_index=False).mean().sort_values(by='FareBand', ascending=True)"
      ],
      "cell_type": "code",
      "metadata": {
        "_uuid": "82c319365b0de97c4b3688472676e0622dfd0d27",
        "_cell_guid": "654f435d-0c6d-4734-92e5-991fdb1736b6"
      },
      "outputs": [],
      "execution_count": null
    },
    {
      "source": [
        "for dataset in combine:\n",
        "    dataset.loc[ dataset['Fare'] <= 7.91, 'Fare'] = 0\n",
        "    dataset.loc[(dataset['Fare'] > 7.91) & (dataset['Fare'] <= 14.454), 'Fare'] = 1\n",
        "    dataset.loc[(dataset['Fare'] > 14.454) & (dataset['Fare'] <= 31), 'Fare']   = 2\n",
        "    dataset.loc[ dataset['Fare'] > 31, 'Fare'] = 3\n",
        "    dataset['Fare'] = dataset['Fare'].astype(int)\n",
        "\n",
        "train_df = train_df.drop(['FareBand'], axis=1)\n",
        "combine = [train_df, test_df]\n",
        "    \n",
        "train_df.head(10)"
      ],
      "cell_type": "code",
      "metadata": {
        "_uuid": "08a04f13980a0fa8e5feeaf5467157d722c7564f",
        "_cell_guid": "6f5a9342-d136-493e-824a-bfbf6df5e1cb"
      },
      "outputs": [],
      "execution_count": null
    },
    {
      "source": [
        "test_df.head(10)"
      ],
      "cell_type": "code",
      "metadata": {
        "_uuid": "15f12b26a69df1111040b71fbca8854f1bea7243",
        "_cell_guid": "7cec394d-ec18-45f3-b37d-02358cdc9fe6"
      },
      "outputs": [],
      "execution_count": null
    },
    {
      "source": [
        "X_train = train_df.drop(\"Survived\", axis=1)\n",
        "Y_train = train_df[\"Survived\"]\n",
        "X_test  = test_df.drop(\"PassengerId\", axis=1).copy()\n",
        "X_train.shape, Y_train.shape, X_test.shape"
      ],
      "cell_type": "code",
      "metadata": {
        "_uuid": "feee3102075a66d56a2012adb9c496dbe4dea29e",
        "_cell_guid": "9aad1f23-5558-4b53-9582-cbc62cf202d1"
      },
      "outputs": [],
      "execution_count": null
    },
    {
      "source": [
        "# Logistic Regression\n",
        "\n",
        "logreg = LogisticRegression()\n",
        "logreg.fit(X_train, Y_train)\n",
        "Y_pred = logreg.predict(X_test)\n",
        "acc_log = round(logreg.score(X_train, Y_train) * 100, 2)\n",
        "acc_log"
      ],
      "cell_type": "code",
      "metadata": {
        "_uuid": "7541efe48c485f166eed1efd8932a69e7625e13b",
        "_cell_guid": "8a8ada9f-51ee-4579-8385-a20ec557027f"
      },
      "outputs": [],
      "execution_count": null
    },
    {
      "source": [
        "coeff_df = pd.DataFrame(train_df.columns.delete(0))\n",
        "coeff_df.columns = ['Feature']\n",
        "coeff_df[\"Correlation\"] = pd.Series(logreg.coef_[0])\n",
        "\n",
        "coeff_df.sort_values(by='Correlation', ascending=False)"
      ],
      "cell_type": "code",
      "metadata": {
        "_uuid": "5261d426e3551d9f692f88bfc5b024c0ebd64206",
        "_cell_guid": "de886cfb-7373-4026-b0c7-8e8fb6755050"
      },
      "outputs": [],
      "execution_count": null
    },
    {
      "source": [
        "# Support Vector Machines\n",
        "\n",
        "svc = SVC()\n",
        "svc.fit(X_train, Y_train)\n",
        "Y_pred = svc.predict(X_test)\n",
        "acc_svc = round(svc.score(X_train, Y_train) * 100, 2)\n",
        "acc_svc"
      ],
      "cell_type": "code",
      "metadata": {
        "scrolled": true,
        "_uuid": "db41ad95fbcd66e8c118c18335ae708f3211b1e3",
        "_cell_guid": "ca7f877a-5f08-438b-93f2-e9ebe34c2f87"
      },
      "outputs": [],
      "execution_count": null
    },
    {
      "source": [
        "knn = KNeighborsClassifier(n_neighbors = 3)\n",
        "knn.fit(X_train, Y_train)\n",
        "Y_pred = knn.predict(X_test)\n",
        "acc_knn = round(knn.score(X_train, Y_train) * 100, 2)\n",
        "acc_knn"
      ],
      "cell_type": "code",
      "metadata": {
        "scrolled": true,
        "_uuid": "bea2603366b584f347cef4251787967044753e7f",
        "_cell_guid": "c07c247d-9024-457f-a69e-51c0994ed347"
      },
      "outputs": [],
      "execution_count": null
    },
    {
      "source": [
        "# Gaussian Naive Bayes\n",
        "\n",
        "gaussian = GaussianNB()\n",
        "gaussian.fit(X_train, Y_train)\n",
        "Y_pred = gaussian.predict(X_test)\n",
        "acc_gaussian = round(gaussian.score(X_train, Y_train) * 100, 2)\n",
        "acc_gaussian"
      ],
      "cell_type": "code",
      "metadata": {
        "scrolled": true,
        "_uuid": "3c31a3964a89b25f2315580d5d8c5786d77dd790",
        "_cell_guid": "acfd385f-9491-4077-9579-a092710a5315"
      },
      "outputs": [],
      "execution_count": null
    },
    {
      "source": [
        "# Perceptron\n",
        "\n",
        "perceptron = Perceptron()\n",
        "perceptron.fit(X_train, Y_train)\n",
        "Y_pred = perceptron.predict(X_test)\n",
        "acc_perceptron = round(perceptron.score(X_train, Y_train) * 100, 2)\n",
        "acc_perceptron"
      ],
      "cell_type": "code",
      "metadata": {
        "scrolled": true,
        "_uuid": "af9511482449497be3ef579a3aa53c2b6125db1f",
        "_cell_guid": "0baaf87d-2815-46c6-a359-4f5170304895"
      },
      "outputs": [],
      "execution_count": null
    },
    {
      "source": [
        "# Linear SVC\n",
        "\n",
        "linear_svc = LinearSVC()\n",
        "linear_svc.fit(X_train, Y_train)\n",
        "Y_pred = linear_svc.predict(X_test)\n",
        "acc_linear_svc = round(linear_svc.score(X_train, Y_train) * 100, 2)\n",
        "acc_linear_svc"
      ],
      "cell_type": "code",
      "metadata": {
        "scrolled": true,
        "_uuid": "596f67162155ba29f0d7050635ef2973bf2a7747",
        "_cell_guid": "a5fd3366-14f6-44cf-a98d-31ce104b8c47"
      },
      "outputs": [],
      "execution_count": null
    },
    {
      "source": [
        "# Stochastic Gradient Descent\n",
        "\n",
        "sgd = SGDClassifier()\n",
        "sgd.fit(X_train, Y_train)\n",
        "Y_pred = sgd.predict(X_test)\n",
        "acc_sgd = round(sgd.score(X_train, Y_train) * 100, 2)\n",
        "acc_sgd"
      ],
      "cell_type": "code",
      "metadata": {
        "scrolled": true,
        "_uuid": "26bf2ccbf6dbef989e36f906c8d5f12aa6443507",
        "_cell_guid": "bcfa66e7-ebbc-4b9a-a5f7-1e1cd3c6f905"
      },
      "outputs": [],
      "execution_count": null
    },
    {
      "source": [
        "# Decision Tree\n",
        "\n",
        "decision_tree = DecisionTreeClassifier()\n",
        "decision_tree.fit(X_train, Y_train)\n",
        "Y_pred = decision_tree.predict(X_test)\n",
        "acc_decision_tree = round(decision_tree.score(X_train, Y_train) * 100, 2)\n",
        "acc_decision_tree"
      ],
      "cell_type": "code",
      "metadata": {
        "scrolled": true,
        "_uuid": "698926fd28bb4fc21ff894705d9d97c3be21e578",
        "_cell_guid": "8ce625d1-04bc-4b55-bafc-a14c12ed1a5e"
      },
      "outputs": [],
      "execution_count": null
    },
    {
      "source": [
        "# Random Forest\n",
        "\n",
        "random_forest = RandomForestClassifier(n_estimators=100)\n",
        "random_forest.fit(X_train, Y_train)\n",
        "Y_pred = random_forest.predict(X_test)\n",
        "random_forest.score(X_train, Y_train)\n",
        "acc_random_forest = round(random_forest.score(X_train, Y_train) * 100, 2)\n",
        "acc_random_forest"
      ],
      "cell_type": "code",
      "metadata": {
        "_uuid": "cce9c74aaa9d3fdd457875945ec24c4c8adb72f7",
        "_cell_guid": "6587e634-5555-4f20-b0ea-9e6e45baa05d"
      },
      "outputs": [],
      "execution_count": null
    },
    {
      "source": [
        "models = pd.DataFrame({\n",
        "    'Model': ['Support Vector Machines', 'KNN', 'Logistic Regression', \n",
        "              'Random Forest', 'Naive Bayes', 'Perceptron', \n",
        "              'Stochastic Gradient Decent', 'Linear SVC', \n",
        "              'Decision Tree'],\n",
        "    'Score': [acc_svc, acc_knn, acc_log, \n",
        "              acc_random_forest, acc_gaussian, acc_perceptron, \n",
        "              acc_sgd, acc_linear_svc, acc_decision_tree]})\n",
        "models.sort_values(by='Score', ascending=False)"
      ],
      "cell_type": "code",
      "metadata": {
        "_uuid": "6976718c6be19314e37d47af2157f4bcd62e8e6e",
        "_cell_guid": "587bdbac-babd-4959-afbb-9dfbd4bdfafc"
      },
      "outputs": [],
      "execution_count": null
    },
    {
      "source": [
        "submission = pd.DataFrame({\n",
        "        \"PassengerId\": test_df[\"PassengerId\"],\n",
        "        \"Survived\": Y_pred\n",
        "    })\n",
        "#submission.to_csv('../submission.csv', index=False)"
      ],
      "cell_type": "code",
      "metadata": {
        "_uuid": "24a9d04e95e2e51ab5d48ecac711f1a229d953fb",
        "_cell_guid": "ade52d8e-a8eb-4100-bd2b-33eb8f342b50"
      },
      "outputs": [],
      "execution_count": null
    }
  ],
  "metadata": {
    "kernelspec": {
      "display_name": "Python 3",
      "language": "python",
      "name": "python3"
    },
    "language_info": {
      "nbconvert_exporter": "python",
      "name": "python",
      "pygments_lexer": "ipython3",
      "file_extension": ".py",
      "codemirror_mode": {
        "name": "ipython",
        "version": 3
      },
      "mimetype": "text/x-python",
      "version": "3.6.3"
    }
  },
  "nbformat_minor": 1,
  "nbformat": 4
}